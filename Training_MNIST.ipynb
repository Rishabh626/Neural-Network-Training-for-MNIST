{
 "cells": [
  {
   "cell_type": "code",
   "execution_count": 31,
   "id": "6e93e1ef",
   "metadata": {},
   "outputs": [],
   "source": [
    "import tensorflow as tf\n",
    "from tensorflow import keras\n",
    "import numpy as np\n",
    "import pandas as pd\n",
    "import sklearn.metrics as metrics"
   ]
  },
  {
   "cell_type": "code",
   "execution_count": 32,
   "id": "1b62bd98",
   "metadata": {},
   "outputs": [],
   "source": [
    "(x_train, y_train), (x_test, y_test) = keras.datasets.mnist.load_data()"
   ]
  },
  {
   "cell_type": "code",
   "execution_count": 33,
   "id": "5e2a6440",
   "metadata": {},
   "outputs": [],
   "source": [
    "x_train = x_train/255 # we divide x_train and test by 255 to increase the efficiency of our final output. \n",
    "x_test = x_test/255 # We scale the values. making it in 0 to 1 range."
   ]
  },
  {
   "cell_type": "code",
   "execution_count": 34,
   "id": "1353c933",
   "metadata": {},
   "outputs": [
    {
     "data": {
      "text/plain": [
       "60000"
      ]
     },
     "execution_count": 34,
     "metadata": {},
     "output_type": "execute_result"
    }
   ],
   "source": [
    "len(x_train)"
   ]
  },
  {
   "cell_type": "code",
   "execution_count": 35,
   "id": "ec5b9901",
   "metadata": {},
   "outputs": [
    {
     "data": {
      "text/plain": [
       "<matplotlib.image.AxesImage at 0x16bd0a2f0>"
      ]
     },
     "execution_count": 35,
     "metadata": {},
     "output_type": "execute_result"
    },
    {
     "data": {
      "image/png": "[encoded data removed]",
      "text/plain": [
       "<Figure size 480x480 with 1 Axes>"
      ]
     },
     "metadata": {},
     "output_type": "display_data"
    }
   ],
   "source": [
    "plt.matshow(x_train[0])"
   ]
  },
  {
   "cell_type": "code",
   "execution_count": 36,
   "id": "2353207e",
   "metadata": {},
   "outputs": [
    {
     "data": {
      "text/plain": [
       "<matplotlib.image.AxesImage at 0x16bd92ce0>"
      ]
     },
     "execution_count": 36,
     "metadata": {},
     "output_type": "execute_result"
    },
    {
     "data": {
      "image/png": "[encoded data removed]",
      "text/plain": [
       "<Figure size 480x480 with 1 Axes>"
      ]
     },
     "metadata": {},
     "output_type": "display_data"
    }
   ],
   "source": [
    "plt.matshow(x_train[5])"
   ]
  },
  {
   "cell_type": "code",
   "execution_count": 37,
   "id": "fcdf383f",
   "metadata": {},
   "outputs": [
    {
     "data": {
      "text/plain": [
       "5"
      ]
     },
     "execution_count": 37,
     "metadata": {},
     "output_type": "execute_result"
    }
   ],
   "source": [
    "y_train[0]"
   ]
  },
  {
   "cell_type": "code",
   "execution_count": 38,
   "id": "c616ae64",
   "metadata": {},
   "outputs": [
    {
     "data": {
      "text/plain": [
       "2"
      ]
     },
     "execution_count": 38,
     "metadata": {},
     "output_type": "execute_result"
    }
   ],
   "source": [
    "y_train[5]"
   ]
  },
  {
   "cell_type": "code",
   "execution_count": 39,
   "id": "9f300afb",
   "metadata": {},
   "outputs": [],
   "source": [
    "#we need to flatten the array of x to pass to neurons."
   ]
  },
  {
   "cell_type": "code",
   "execution_count": 40,
   "id": "4c06bb7f",
   "metadata": {},
   "outputs": [
    {
     "data": {
      "text/plain": [
       "(60000, 784)"
      ]
     },
     "execution_count": 40,
     "metadata": {},
     "output_type": "execute_result"
    }
   ],
   "source": [
    "x_train_flat = x_train.reshape(len(x_train), 28*28)\n",
    "x_train_flat.shape   "
   ]
  },
  {
   "cell_type": "code",
   "execution_count": 41,
   "id": "7bcb8a6d",
   "metadata": {},
   "outputs": [
    {
     "data": {
      "text/plain": [
       "array([[0., 0., 0., ..., 0., 0., 0.],\n",
       "       [0., 0., 0., ..., 0., 0., 0.],\n",
       "       [0., 0., 0., ..., 0., 0., 0.],\n",
       "       ...,\n",
       "       [0., 0., 0., ..., 0., 0., 0.],\n",
       "       [0., 0., 0., ..., 0., 0., 0.],\n",
       "       [0., 0., 0., ..., 0., 0., 0.]])"
      ]
     },
     "execution_count": 41,
     "metadata": {},
     "output_type": "execute_result"
    }
   ],
   "source": [
    "x_train_flat"
   ]
  },
  {
   "cell_type": "code",
   "execution_count": 42,
   "id": "193c9bfe",
   "metadata": {},
   "outputs": [
    {
     "data": {
      "text/plain": [
       "(10000, 784)"
      ]
     },
     "execution_count": 42,
     "metadata": {},
     "output_type": "execute_result"
    }
   ],
   "source": [
    "x_test_flat = x_test.reshape(len(x_test), 28*28)\n",
    "x_test_flat.shape "
   ]
  },
  {
   "cell_type": "code",
   "execution_count": 43,
   "id": "9429e5fd",
   "metadata": {},
   "outputs": [],
   "source": [
    "# First we train our neural network without any hidden layer or dropout layer."
   ]
  },
  {
   "cell_type": "code",
   "execution_count": 44,
   "id": "93b3add5",
   "metadata": {},
   "outputs": [
    {
     "name": "stdout",
     "output_type": "stream",
     "text": [
      "Epoch 1/5\n",
      "1875/1875 [==============================] - 1s 362us/step - loss: 0.4730 - accuracy: 0.8757\n",
      "Epoch 2/5\n",
      "1875/1875 [==============================] - 1s 368us/step - loss: 0.3046 - accuracy: 0.9146\n",
      "Epoch 3/5\n",
      "1875/1875 [==============================] - 1s 347us/step - loss: 0.2833 - accuracy: 0.9215\n",
      "Epoch 4/5\n",
      "1875/1875 [==============================] - 1s 346us/step - loss: 0.2729 - accuracy: 0.9240\n",
      "Epoch 5/5\n",
      "1875/1875 [==============================] - 1s 346us/step - loss: 0.2667 - accuracy: 0.9257\n"
     ]
    },
    {
     "data": {
      "text/plain": [
       "<keras.callbacks.History at 0x16bdebd90>"
      ]
     },
     "execution_count": 44,
     "metadata": {},
     "output_type": "execute_result"
    }
   ],
   "source": [
    "model = keras.Sequential([\n",
    "    keras.layers.Dense(10,input_shape= (784,),activation = 'sigmoid')\n",
    "])\n",
    "\n",
    "tb_callback = tf.keras.callbacks.TensorBoard(log_dir = \"log/adam\", histogram_freq = 1)\n",
    "\n",
    "model.compile(\n",
    "    optimizer = 'adam',\n",
    "    loss = 'sparse_categorical_crossentropy',\n",
    "    metrics = ['accuracy']\n",
    ")\n",
    "model.fit(x_train_flat, y_train,epochs = 5, callbacks = [tb_callback])"
   ]
  },
  {
   "cell_type": "code",
   "execution_count": 45,
   "id": "3b36c6f0",
   "metadata": {},
   "outputs": [
    {
     "name": "stdout",
     "output_type": "stream",
     "text": [
      "313/313 [==============================] - 0s 292us/step - loss: 0.2675 - accuracy: 0.9252\n"
     ]
    },
    {
     "data": {
      "text/plain": [
       "[0.26753416657447815, 0.9251999855041504]"
      ]
     },
     "execution_count": 45,
     "metadata": {},
     "output_type": "execute_result"
    }
   ],
   "source": [
    "model.evaluate(x_test_flat, y_test)    # 92.4 % efficiency achieved "
   ]
  },
  {
   "cell_type": "code",
   "execution_count": 46,
   "id": "ef5347db",
   "metadata": {},
   "outputs": [
    {
     "data": {
      "text/plain": [
       "<matplotlib.image.AxesImage at 0x17680bc70>"
      ]
     },
     "execution_count": 46,
     "metadata": {},
     "output_type": "execute_result"
    },
    {
     "data": {
      "image/png": "[encoded data removed]",
      "text/plain": [
       "<Figure size 480x480 with 1 Axes>"
      ]
     },
     "metadata": {},
     "output_type": "display_data"
    }
   ],
   "source": [
    "plt.matshow(x_test[0]) # it shows our first image."
   ]
  },
  {
   "cell_type": "code",
   "execution_count": 47,
   "id": "29632f8a",
   "metadata": {},
   "outputs": [
    {
     "name": "stdout",
     "output_type": "stream",
     "text": [
      "313/313 [==============================] - 0s 254us/step\n"
     ]
    },
    {
     "data": {
      "text/plain": [
       "array([2.2725327e-02, 4.0716597e-07, 4.8734125e-02, 9.4985259e-01,\n",
       "       2.3951421e-03, 7.7047832e-02, 1.5950390e-06, 9.9980098e-01,\n",
       "       8.5417688e-02, 6.6382015e-01], dtype=float32)"
      ]
     },
     "execution_count": 47,
     "metadata": {},
     "output_type": "execute_result"
    }
   ],
   "source": [
    "y_pred = model.predict(x_test_flat)\n",
    "y_pred[0] # this is our predicted number by our model"
   ]
  },
  {
   "cell_type": "code",
   "execution_count": 48,
   "id": "f978880d",
   "metadata": {},
   "outputs": [
    {
     "data": {
      "text/plain": [
       "7"
      ]
     },
     "execution_count": 48,
     "metadata": {},
     "output_type": "execute_result"
    }
   ],
   "source": [
    "np.argmax(y_pred[0]) # this will give the maximum value of y_pred[0] - which is our predicted value for the given image."
   ]
  },
  {
   "cell_type": "code",
   "execution_count": 49,
   "id": "c47e627d",
   "metadata": {},
   "outputs": [
    {
     "data": {
      "text/plain": [
       "[7, 2, 1, 0, 4]"
      ]
     },
     "execution_count": 49,
     "metadata": {},
     "output_type": "execute_result"
    }
   ],
   "source": [
    "y_pred_lables = [np.argmax(i) for i in y_pred]\n",
    "y_pred_lables[0:5]"
   ]
  },
  {
   "cell_type": "code",
   "execution_count": 50,
   "id": "3dfc02de",
   "metadata": {},
   "outputs": [
    {
     "data": {
      "text/plain": [
       "array([7, 2, 1, 0, 4], dtype=uint8)"
      ]
     },
     "execution_count": 50,
     "metadata": {},
     "output_type": "execute_result"
    }
   ],
   "source": [
    "y_test[0:5]  #which matches with our y_pred."
   ]
  },
  {
   "cell_type": "code",
   "execution_count": 51,
   "id": "23e467ae",
   "metadata": {},
   "outputs": [],
   "source": [
    "# Now we are adding hidden layer and randomly dropout some of the neurons to get appropirate-fitting."
   ]
  },
  {
   "cell_type": "code",
   "execution_count": 52,
   "id": "78cfb70b",
   "metadata": {},
   "outputs": [
    {
     "name": "stdout",
     "output_type": "stream",
     "text": [
      "Epoch 1/5\n",
      "1875/1875 [==============================] - 1s 558us/step - loss: 1.7988 - accuracy: 0.3558\n",
      "Epoch 2/5\n",
      "1875/1875 [==============================] - 1s 536us/step - loss: 1.0807 - accuracy: 0.6336\n",
      "Epoch 3/5\n",
      "1875/1875 [==============================] - 1s 525us/step - loss: 0.8436 - accuracy: 0.7318\n",
      "Epoch 4/5\n",
      "1875/1875 [==============================] - 1s 522us/step - loss: 0.7135 - accuracy: 0.7832\n",
      "Epoch 5/5\n",
      "1875/1875 [==============================] - 1s 539us/step - loss: 0.6321 - accuracy: 0.8141\n"
     ]
    },
    {
     "data": {
      "text/plain": [
       "<keras.callbacks.History at 0x1768fdf30>"
      ]
     },
     "execution_count": 52,
     "metadata": {},
     "output_type": "execute_result"
    }
   ],
   "source": [
    "\n",
    "modeld = keras.Sequential([\n",
    "    keras.layers.Dense(100,input_shape= (784,),activation = 'relu'), # Hidden layer\n",
    "    keras.layers.Dropout(0.5),\n",
    "    keras.layers.Dense(70,activation = 'relu'),\n",
    "    keras.layers.Dropout(0.5),\n",
    "    keras.layers.Dense(40,activation = 'relu'),\n",
    "    keras.layers.Dropout(0.5),\n",
    "    keras.layers.Dense (10, activation = 'sigmoid')                 \n",
    "                      \n",
    "])\n",
    "modeld.compile(\n",
    "    optimizer = 'SGD',\n",
    "    loss = 'sparse_categorical_crossentropy',\n",
    "    metrics = ['accuracy']\n",
    ")\n",
    "modeld.fit(x_train_flat, y_train,epochs = 5)"
   ]
  },
  {
   "cell_type": "code",
   "execution_count": 53,
   "id": "83caff7a",
   "metadata": {},
   "outputs": [
    {
     "name": "stdout",
     "output_type": "stream",
     "text": [
      "313/313 [==============================] - 0s 386us/step - loss: 0.2886 - accuracy: 0.9254\n"
     ]
    },
    {
     "data": {
      "text/plain": [
       "[0.2885890603065491, 0.9254000186920166]"
      ]
     },
     "execution_count": 53,
     "metadata": {},
     "output_type": "execute_result"
    }
   ],
   "source": [
    "modeld.evaluate(x_test_flat, y_test) # 92.8 % efficiency achieved."
   ]
  },
  {
   "cell_type": "code",
   "execution_count": 54,
   "id": "c9a08972",
   "metadata": {},
   "outputs": [
    {
     "name": "stdout",
     "output_type": "stream",
     "text": [
      "313/313 [==============================] - 0s 354us/step\n"
     ]
    },
    {
     "data": {
      "text/plain": [
       "array([3.3823982e-01, 2.9258966e-01, 2.0680988e-02, 8.8473022e-01,\n",
       "       4.2844471e-02, 2.7759872e-02, 3.4012330e-05, 9.9999917e-01,\n",
       "       1.4915511e-02, 9.9968761e-01], dtype=float32)"
      ]
     },
     "execution_count": 54,
     "metadata": {},
     "output_type": "execute_result"
    }
   ],
   "source": [
    "y_pred = modeld.predict(x_test_flat)\n",
    "y_pred[0]"
   ]
  },
  {
   "cell_type": "code",
   "execution_count": 55,
   "id": "b2725d8b",
   "metadata": {},
   "outputs": [
    {
     "data": {
      "text/plain": [
       "7"
      ]
     },
     "execution_count": 55,
     "metadata": {},
     "output_type": "execute_result"
    }
   ],
   "source": [
    "np.argmax(y_pred[0])"
   ]
  },
  {
   "cell_type": "code",
   "execution_count": null,
   "id": "b26c1fd5",
   "metadata": {},
   "outputs": [],
   "source": []
  }
 ],
 "metadata": {
  "kernelspec": {
   "display_name": "Python 3 (ipykernel)",
   "language": "python",
   "name": "python3"
  },
  "language_info": {
   "codemirror_mode": {
    "name": "ipython",
    "version": 3
   },
   "file_extension": ".py",
   "mimetype": "text/x-python",
   "name": "python",
   "nbconvert_exporter": "python",
   "pygments_lexer": "ipython3",
   "version": "3.10.9"
  }
 },
 "nbformat": 4,
 "nbformat_minor": 5
}
