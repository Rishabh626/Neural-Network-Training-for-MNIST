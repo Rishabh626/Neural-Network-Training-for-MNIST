{
 "cells": [
  {
   "cell_type": "code",
   "execution_count": 1,
   "id": "caccf388",
   "metadata": {},
   "outputs": [],
   "source": [
    "import tensorflow as tf\n",
    "from tensorflow.keras.datasets import mnist, fashion_mnist\n",
    "\n",
    "import numpy as np"
   ]
  },
  {
   "cell_type": "code",
   "execution_count": 2,
   "id": "82171f1b",
   "metadata": {},
   "outputs": [],
   "source": [
    "(x_train, y_train), (x_test, y_test) = mnist.load_data()"
   ]
  },
  {
   "cell_type": "code",
   "execution_count": 3,
   "id": "174abedb",
   "metadata": {},
   "outputs": [
    {
     "data": {
      "text/plain": [
       "(60000, 28, 28)"
      ]
     },
     "execution_count": 3,
     "metadata": {},
     "output_type": "execute_result"
    }
   ],
   "source": [
    "x_train.shape"
   ]
  },
  {
   "cell_type": "code",
   "execution_count": 4,
   "id": "b27be324",
   "metadata": {},
   "outputs": [],
   "source": [
    "x_train = x_train.reshape(-1, 784) / 255.0  \n",
    "x_test = x_test.reshape(-1, 784) / 255.0"
   ]
  },
  {
   "cell_type": "code",
   "execution_count": 5,
   "id": "86d7d18d",
   "metadata": {},
   "outputs": [],
   "source": [
    "model = tf.keras.models.Sequential([\n",
    "    tf.keras.layers.Dense(256, activation='relu', input_shape=(784,)),\n",
    "    tf.keras.layers.Dense(128, activation='relu'),\n",
    "    tf.keras.layers.Dense(64, activation='relu'),\n",
    "    tf.keras.layers.Dense(32, activation='relu'),\n",
    "    tf.keras.layers.Dense(10, activation='softmax')\n",
    "])"
   ]
  },
  {
   "cell_type": "code",
   "execution_count": 6,
   "id": "e241b391",
   "metadata": {},
   "outputs": [],
   "source": [
    "model.compile(optimizer='adam', loss='sparse_categorical_crossentropy', metrics=['accuracy'])"
   ]
  },
  {
   "cell_type": "code",
   "execution_count": 7,
   "id": "684ff1de",
   "metadata": {},
   "outputs": [
    {
     "data": {
      "text/plain": [
       "256"
      ]
     },
     "execution_count": 7,
     "metadata": {},
     "output_type": "execute_result"
    }
   ],
   "source": [
    "layer = model.layers[0]\n",
    "len(layer.get_weights()[0][0])"
   ]
  },
  {
   "cell_type": "code",
   "execution_count": 8,
   "id": "ab66591a",
   "metadata": {},
   "outputs": [
    {
     "name": "stdout",
     "output_type": "stream",
     "text": [
      "Epoch 1/5\n",
      "938/938 [==============================] - 9s 8ms/step - loss: 0.2585 - accuracy: 0.9238 - val_loss: 0.1254 - val_accuracy: 0.9577\n",
      "Epoch 2/5\n",
      "938/938 [==============================] - 4s 4ms/step - loss: 0.0972 - accuracy: 0.9701 - val_loss: 0.0819 - val_accuracy: 0.9730\n",
      "Epoch 3/5\n",
      "938/938 [==============================] - 4s 4ms/step - loss: 0.0640 - accuracy: 0.9794 - val_loss: 0.0921 - val_accuracy: 0.9724\n",
      "Epoch 4/5\n",
      "938/938 [==============================] - 5s 5ms/step - loss: 0.0489 - accuracy: 0.9846 - val_loss: 0.0914 - val_accuracy: 0.9752\n",
      "Epoch 5/5\n",
      "938/938 [==============================] - 5s 5ms/step - loss: 0.0412 - accuracy: 0.9865 - val_loss: 0.0927 - val_accuracy: 0.9733\n"
     ]
    },
    {
     "data": {
      "text/plain": [
       "<keras.callbacks.History at 0x2002d5a36d0>"
      ]
     },
     "execution_count": 8,
     "metadata": {},
     "output_type": "execute_result"
    }
   ],
   "source": [
    "model.fit(x_train, y_train, epochs=5, batch_size=64, validation_data=(x_test, y_test))"
   ]
  },
  {
   "cell_type": "code",
   "execution_count": 9,
   "id": "49594392",
   "metadata": {},
   "outputs": [
    {
     "data": {
      "text/plain": [
       "256"
      ]
     },
     "execution_count": 9,
     "metadata": {},
     "output_type": "execute_result"
    }
   ],
   "source": [
    "len(model.get_weights()[0][0])                                                 "
   ]
  },
  {
   "cell_type": "code",
   "execution_count": 10,
   "id": "a40498b0",
   "metadata": {},
   "outputs": [],
   "source": [
    "def prune_weights(model, threshold):\n",
    "    pruned_model = tf.keras.models.clone_model(model)\n",
    "    pruned_model.set_weights(model.get_weights())  # Copy the original weights\n",
    "\n",
    "    # Prune the weights below the threshold\n",
    "    for layer in pruned_model.layers:\n",
    "        if isinstance(layer, tf.keras.layers.Dense):\n",
    "            weights = layer.get_weights()\n",
    "            weights[0][abs(weights[0]) < threshold] = 0.0  # Prune weights below threshold\n",
    "            layer.set_weights(weights)\n",
    "    \n",
    "    return pruned_model\n"
   ]
  },
  {
   "cell_type": "code",
   "execution_count": null,
   "id": "328d9243",
   "metadata": {},
   "outputs": [],
   "source": []
  },
  {
   "cell_type": "code",
   "execution_count": 11,
   "id": "06eb65ae",
   "metadata": {},
   "outputs": [],
   "source": [
    "\n",
    "thresholds = [0.1, 0.2, 0.3, 0.5, 0.7,1]\n",
    "performance = []"
   ]
  },
  {
   "cell_type": "code",
   "execution_count": 12,
   "id": "b11c1524",
   "metadata": {},
   "outputs": [
    {
     "name": "stdout",
     "output_type": "stream",
     "text": [
      "313/313 [==============================] - 1s 3ms/step - loss: 0.2354 - accuracy: 0.9414\n",
      "313/313 [==============================] - 2s 4ms/step - loss: 2.2978 - accuracy: 0.1174\n",
      "313/313 [==============================] - 1s 2ms/step - loss: 2.3087 - accuracy: 0.1032\n",
      "313/313 [==============================] - 4s 9ms/step - loss: 2.3047 - accuracy: 0.0982\n",
      "313/313 [==============================] - 1s 2ms/step - loss: 2.3046 - accuracy: 0.0982\n",
      "313/313 [==============================] - 1s 2ms/step - loss: 2.3046 - accuracy: 0.0982\n"
     ]
    }
   ],
   "source": [
    "for threshold in thresholds:\n",
    "    pruned_model = prune_weights(model, threshold)\n",
    "    pruned_model.compile(optimizer='adam', loss='sparse_categorical_crossentropy', metrics=['accuracy'])\n",
    "    # pruned_model.fit(x_train, y_train, epochs=5, batch_size=64, validation_data=(x_test, y_test))\n",
    "    loss, accuracy = pruned_model.evaluate(x_test, y_test)\n",
    "    performance.append(accuracy)"
   ]
  },
  {
   "cell_type": "code",
   "execution_count": 13,
   "id": "f113fbf4",
   "metadata": {},
   "outputs": [
    {
     "name": "stdout",
     "output_type": "stream",
     "text": [
      "[['Threshold: 0.1, Accuracy: 0.9413999915122986'], ['Threshold: 0.2, Accuracy: 0.11739999800920486'], ['Threshold: 0.3, Accuracy: 0.10320000350475311'], ['Threshold: 0.5, Accuracy: 0.0982000008225441'], ['Threshold: 0.7, Accuracy: 0.0982000008225441'], ['Threshold: 1, Accuracy: 0.0982000008225441']]\n"
     ]
    }
   ],
   "source": [
    "acc_on_t = []\n",
    "\n",
    "for threshold, acc in zip(thresholds, performance):\n",
    "    ind = []\n",
    "    ind.append(f'Threshold: {threshold}, Accuracy: {acc}')\n",
    "    acc_on_t.append(ind)\n",
    "print(acc_on_t)"
   ]
  }
 ],
 "metadata": {
  "kernelspec": {
   "display_name": "Python 3 (ipykernel)",
   "language": "python",
   "name": "python3"
  },
  "language_info": {
   "codemirror_mode": {
    "name": "ipython",
    "version": 3
   },
   "file_extension": ".py",
   "mimetype": "text/x-python",
   "name": "python",
   "nbconvert_exporter": "python",
   "pygments_lexer": "ipython3",
   "version": "3.10.2"
  }
 },
 "nbformat": 4,
 "nbformat_minor": 5
}
